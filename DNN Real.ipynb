{
 "cells": [
  {
   "cell_type": "code",
   "execution_count": 1,
   "metadata": {},
   "outputs": [],
   "source": [
    "# Original Imports\n",
    "import numpy as np # linear algebra\n",
    "import pandas as pd # data processing, CSV file I/O (e.g. pd.read_csv)\n",
    "import pickle\n",
    "import seaborn as sns\n",
    "import matplotlib.pyplot as plt\n",
    "from sklearn import preprocessing\n",
    "from sklearn.preprocessing import LabelEncoder, OneHotEncoder, MinMaxScaler\n",
    "from sklearn.ensemble import RandomForestClassifier\n",
    "from sklearn.model_selection import train_test_split\n",
    "from sklearn.metrics import classification_report, confusion_matrix\n",
    "\n",
    "# import stats for ANOVA feature selection\n",
    "from scipy import stats"
   ]
  },
  {
   "cell_type": "code",
   "execution_count": 2,
   "metadata": {},
   "outputs": [],
   "source": [
    "KDDTrain = pd.read_csv('C:/Users/Nimish Bhatt/Downloads/archive (34)/KDDTrain+.txt', header = None) # Data with difficulty level\n",
    "# Column Headings\n",
    "KDDTrain.columns = ['duration', 'protocol_type', 'service', 'flag', 'src_bytes',\n",
    "       'dst_bytes', 'land', 'wrong_fragment', 'urgent', 'hot',\n",
    "       'num_failed_logins', 'logged_in', 'num_compromised', 'root_shell',\n",
    "       'su_attempted', 'num_root', 'num_file_creations', 'num_shells',\n",
    "       'num_access_files', 'num_outbound_cmds', 'is_host_login',\n",
    "       'is_guest_login', 'count', 'srv_count', 'serror_rate',\n",
    "       'srv_serror_rate', 'rerror_rate', 'srv_rerror_rate', 'same_srv_rate',\n",
    "       'diff_srv_rate', 'srv_diff_host_rate', 'dst_host_count',\n",
    "       'dst_host_srv_count', 'dst_host_same_srv_rate',\n",
    "       'dst_host_diff_srv_rate', 'dst_host_same_src_port_rate',\n",
    "       'dst_host_srv_diff_host_rate', 'dst_host_serror_rate',\n",
    "       'dst_host_srv_serror_rate', 'dst_host_rerror_rate',\n",
    "       'dst_host_srv_rerror_rate', 'class', 'difficulty']\n",
    "\n",
    "# We will not utilize the 'difficulty' feature for now\n",
    "KDDTrain.drop('difficulty', axis=1, inplace=True)"
   ]
  },
  {
   "cell_type": "code",
   "execution_count": 3,
   "metadata": {},
   "outputs": [],
   "source": [
    "KDDTest = pd.read_csv('C:/Users/Nimish Bhatt/Downloads/archive (34)/KDDTest+.txt', header = None) # Data with difficulty level\n",
    "# Column Headings\n",
    "KDDTest.columns = ['duration', 'protocol_type', 'service', 'flag', 'src_bytes',\n",
    "       'dst_bytes', 'land', 'wrong_fragment', 'urgent', 'hot',\n",
    "       'num_failed_logins', 'logged_in', 'num_compromised', 'root_shell',\n",
    "       'su_attempted', 'num_root', 'num_file_creations', 'num_shells',\n",
    "       'num_access_files', 'num_outbound_cmds', 'is_host_login',\n",
    "       'is_guest_login', 'count', 'srv_count', 'serror_rate',\n",
    "       'srv_serror_rate', 'rerror_rate', 'srv_rerror_rate', 'same_srv_rate',\n",
    "       'diff_srv_rate', 'srv_diff_host_rate', 'dst_host_count',\n",
    "       'dst_host_srv_count', 'dst_host_same_srv_rate',\n",
    "       'dst_host_diff_srv_rate', 'dst_host_same_src_port_rate',\n",
    "       'dst_host_srv_diff_host_rate', 'dst_host_serror_rate',\n",
    "       'dst_host_srv_serror_rate', 'dst_host_rerror_rate',\n",
    "       'dst_host_srv_rerror_rate', 'class', 'difficulty']\n",
    "\n",
    "# We will not utilize the 'difficulty' feature for now\n",
    "KDDTest.drop('difficulty', axis=1, inplace=True)"
   ]
  },
  {
   "cell_type": "code",
   "execution_count": 4,
   "metadata": {},
   "outputs": [],
   "source": [
    "# Use Label Encoding for categorical features (including 'class')\n",
    "\n",
    "# Encode class label with LabelEncoder\n",
    "label_encoder = preprocessing.LabelEncoder()\n",
    "\n",
    "# Define the columns to LabelEncode\n",
    "categorical_columns=['protocol_type', 'service', 'flag']\n",
    "\n",
    "# Encode categorical columns using LabelEncoder\n",
    "label_encoder = preprocessing.LabelEncoder()\n",
    "for column in categorical_columns:\n",
    "    KDDTrain[column] = label_encoder.fit_transform(KDDTrain[column])\n",
    "    KDDTest[column] = label_encoder.transform(KDDTest[column])"
   ]
  },
  {
   "cell_type": "code",
   "execution_count": 5,
   "metadata": {},
   "outputs": [],
   "source": [
    "# We drop 'num_outbound_cmds' from both training and testing dataset because every instance is equal to 0 in both datasets\n",
    "KDDTrain.drop(\"num_outbound_cmds\",axis=1,inplace=True)\n",
    "KDDTest.drop(\"num_outbound_cmds\",axis=1,inplace=True)"
   ]
  },
  {
   "cell_type": "code",
   "execution_count": 6,
   "metadata": {},
   "outputs": [],
   "source": [
    "# Define the columns to scale\n",
    "columns_to_scale=['duration', 'src_bytes', 'dst_bytes', 'wrong_fragment', 'urgent', 'hot', 'num_failed_logins', 'num_compromised', 'num_root', 'num_file_creations', 'num_shells', 'num_access_files', 'count', 'srv_count', 'dst_host_count', 'dst_host_srv_count']\n",
    "\n",
    "# Scale numerical columns using MinMax\n",
    "scaler = MinMaxScaler()\n",
    "for column in columns_to_scale:\n",
    "    KDDTrain[column] = scaler.fit_transform(KDDTrain[[column]])\n",
    "    KDDTest[column] = scaler.transform(KDDTest[[column]])"
   ]
  },
  {
   "cell_type": "code",
   "execution_count": 7,
   "metadata": {},
   "outputs": [
    {
     "name": "stderr",
     "output_type": "stream",
     "text": [
      "C:\\Users\\Nimish Bhatt\\AppData\\Local\\Temp\\ipykernel_28684\\2704924985.py:2: FutureWarning: A value is trying to be set on a copy of a DataFrame or Series through chained assignment using an inplace method.\n",
      "The behavior will change in pandas 3.0. This inplace method will never work because the intermediate object on which we are setting values always behaves as a copy.\n",
      "\n",
      "For example, when doing 'df[col].method(value, inplace=True)', try using 'df.method({col: value}, inplace=True)' or df[col] = df[col].method(value) instead, to perform the operation inplace on the original object.\n",
      "\n",
      "\n",
      "  KDDTrain['class'].replace(['neptune', 'smurf', 'back', 'teardrop', 'pod', 'land'],'DoS',inplace=True) # 6 sub classes of DoS\n"
     ]
    }
   ],
   "source": [
    "# Change training attack labels to their respective attack class for multiclass classification\n",
    "KDDTrain['class'].replace(['neptune', 'smurf', 'back', 'teardrop', 'pod', 'land'],'DoS',inplace=True) # 6 sub classes of DoS\n",
    "KDDTrain['class'].replace(['satan', 'ipsweep', 'portsweep', 'nmap'],'Probe',inplace=True) # 4 sub classes of Probe\n",
    "KDDTrain['class'].replace(['warezclient', 'guess_passwd', 'warezmaster', 'imap', 'ftp_write', 'multihop', 'phf','spy'],'R2L',inplace=True) # 8 sub classes of R2L\n",
    "KDDTrain['class'].replace(['buffer_overflow', 'rootkit', 'loadmodule','perl'],'U2R',inplace=True) # 4 sub classes of U2R"
   ]
  },
  {
   "cell_type": "code",
   "execution_count": 8,
   "metadata": {},
   "outputs": [
    {
     "name": "stderr",
     "output_type": "stream",
     "text": [
      "C:\\Users\\Nimish Bhatt\\AppData\\Local\\Temp\\ipykernel_28684\\1541108125.py:2: FutureWarning: A value is trying to be set on a copy of a DataFrame or Series through chained assignment using an inplace method.\n",
      "The behavior will change in pandas 3.0. This inplace method will never work because the intermediate object on which we are setting values always behaves as a copy.\n",
      "\n",
      "For example, when doing 'df[col].method(value, inplace=True)', try using 'df.method({col: value}, inplace=True)' or df[col] = df[col].method(value) instead, to perform the operation inplace on the original object.\n",
      "\n",
      "\n",
      "  KDDTest['class'].replace(['neptune', 'apache2', 'processtable', 'smurf', 'back', 'mailbomb', 'pod', 'teardrop', 'land', 'udpstorm'],'DoS',inplace=True) # 10 sub classes of DoS\n"
     ]
    }
   ],
   "source": [
    "# Change testing attack labels to their respective attack class for multiclass classification\n",
    "KDDTest['class'].replace(['neptune', 'apache2', 'processtable', 'smurf', 'back', 'mailbomb', 'pod', 'teardrop', 'land', 'udpstorm'],'DoS',inplace=True) # 10 sub classes of DoS\n",
    "KDDTest['class'].replace(['mscan', 'satan', 'saint', 'portsweep', 'ipsweep', 'nmap'],'Probe',inplace=True) # 6 sub classes of Probe\n",
    "KDDTest['class'].replace(['guess_passwd', 'warezmaster', 'snmpguess', 'snmpgetattack', 'httptunnel', 'multihop', 'named', 'sendmail', 'xlock', 'xsnoop', 'ftp_write', 'worm', 'phf', 'imap'],'R2L',inplace=True) # 14 sub classes of R2L\n",
    "KDDTest['class'].replace(['buffer_overflow', 'ps', 'rootkit', 'xterm', 'loadmodule', 'perl', 'sqlattack'],'U2R',inplace=True) # 7 sub classes of U2R"
   ]
  },
  {
   "cell_type": "code",
   "execution_count": 9,
   "metadata": {},
   "outputs": [
    {
     "data": {
      "text/plain": [
       "class\n",
       "normal    67343\n",
       "DoS       45927\n",
       "Probe     11656\n",
       "R2L         995\n",
       "U2R          52\n",
       "Name: count, dtype: int64"
      ]
     },
     "execution_count": 9,
     "metadata": {},
     "output_type": "execute_result"
    }
   ],
   "source": [
    "# Distribution of attack classes in training dataset\n",
    "KDDTrain['class'].value_counts()"
   ]
  },
  {
   "cell_type": "code",
   "execution_count": 10,
   "metadata": {},
   "outputs": [
    {
     "data": {
      "text/plain": [
       "class\n",
       "normal    9711\n",
       "DoS       7458\n",
       "R2L       2887\n",
       "Probe     2421\n",
       "U2R         67\n",
       "Name: count, dtype: int64"
      ]
     },
     "execution_count": 10,
     "metadata": {},
     "output_type": "execute_result"
    }
   ],
   "source": [
    "# Distribution of attack classes in testing dataset\n",
    "KDDTest['class'].value_counts()"
   ]
  },
  {
   "cell_type": "code",
   "execution_count": 11,
   "metadata": {},
   "outputs": [],
   "source": [
    "# Encode class label with LabelEncoder\n",
    "label_encoder = preprocessing.LabelEncoder()\n",
    "KDDTrain['class'] = label_encoder.fit_transform(KDDTrain['class'])\n",
    "KDDTest['class'] = label_encoder.fit_transform(KDDTest['class'])"
   ]
  },
  {
   "cell_type": "code",
   "execution_count": 12,
   "metadata": {},
   "outputs": [
    {
     "data": {
      "text/plain": [
       "class\n",
       "4    67343\n",
       "0    45927\n",
       "1    11656\n",
       "2      995\n",
       "3       52\n",
       "Name: count, dtype: int64"
      ]
     },
     "execution_count": 12,
     "metadata": {},
     "output_type": "execute_result"
    }
   ],
   "source": [
    "# Distribution of attack classes in training dataset\n",
    "KDDTrain['class'].value_counts()"
   ]
  },
  {
   "cell_type": "code",
   "execution_count": 13,
   "metadata": {},
   "outputs": [],
   "source": [
    "# Use this code for Synthetic + Real Samples\n",
    "X_train = KDDTrain.iloc[:, :-1].values.astype('float32')\n",
    "y_train = KDDTrain.iloc[:, -1].values\n",
    "X_test = KDDTest.iloc[:, :-1].values.astype('float32')\n",
    "y_test = KDDTest.iloc[:, -1].values"
   ]
  },
  {
   "cell_type": "code",
   "execution_count": 17,
   "metadata": {},
   "outputs": [
    {
     "name": "stdout",
     "output_type": "stream",
     "text": [
      "Epoch 1/10\n",
      "3347/3347 - 4s - 1ms/step - accuracy: 0.9340 - loss: 0.2394 - val_accuracy: 0.9691 - val_loss: 0.1147\n",
      "Epoch 2/10\n",
      "3347/3347 - 3s - 846us/step - accuracy: 0.9719 - loss: 0.0926 - val_accuracy: 0.9708 - val_loss: 0.0867\n",
      "Epoch 3/10\n",
      "3347/3347 - 3s - 919us/step - accuracy: 0.9769 - loss: 0.0704 - val_accuracy: 0.9825 - val_loss: 0.0631\n",
      "Epoch 4/10\n",
      "3347/3347 - 3s - 817us/step - accuracy: 0.9841 - loss: 0.0507 - val_accuracy: 0.9805 - val_loss: 0.0541\n",
      "Epoch 5/10\n",
      "3347/3347 - 2s - 657us/step - accuracy: 0.9864 - loss: 0.0416 - val_accuracy: 0.9865 - val_loss: 0.0422\n",
      "Epoch 6/10\n",
      "3347/3347 - 2s - 668us/step - accuracy: 0.9886 - loss: 0.0364 - val_accuracy: 0.9860 - val_loss: 0.0375\n",
      "Epoch 7/10\n",
      "3347/3347 - 2s - 705us/step - accuracy: 0.9892 - loss: 0.0337 - val_accuracy: 0.9929 - val_loss: 0.0266\n",
      "Epoch 8/10\n",
      "3347/3347 - 3s - 815us/step - accuracy: 0.9900 - loss: 0.0311 - val_accuracy: 0.9914 - val_loss: 0.0262\n",
      "Epoch 9/10\n",
      "3347/3347 - 3s - 813us/step - accuracy: 0.9907 - loss: 0.0300 - val_accuracy: 0.9898 - val_loss: 0.0303\n",
      "Epoch 10/10\n",
      "3347/3347 - 3s - 846us/step - accuracy: 0.9909 - loss: 0.0286 - val_accuracy: 0.9919 - val_loss: 0.0252\n"
     ]
    }
   ],
   "source": [
    "# Deep Neural Network for 4 class classification\n",
    "\n",
    "# Import necessary libraries\n",
    "from keras.models import Sequential\n",
    "from keras.layers import Input, Dense\n",
    "from keras.models import Model\n",
    "from keras.utils import plot_model, to_categorical\n",
    "from keras.optimizers import Adam\n",
    "from keras.callbacks import EarlyStopping\n",
    "import matplotlib.pyplot as pyplot\n",
    "\n",
    "\n",
    "# Number of classes 0 = DoS, 1 = Probe, 2 = R2L, 3 = U2R | lexicographic order | 4 class classification\n",
    "n_classes = 5\n",
    "y_train_encoded = to_categorical(y_train, num_classes=n_classes)\n",
    "y_test_encoded = to_categorical(y_test, num_classes=n_classes)\n",
    "\n",
    "# Number of features in the input data (40 total features)\n",
    "n_inputs = 40\n",
    "\n",
    "# Define the input layer\n",
    "visible = Input(shape=(n_inputs,))\n",
    "\n",
    "# Hidden Layer 1\n",
    "e = Dense(80, activation='relu')(visible)  # 80 neurons with ReLU activation\n",
    "\n",
    "# Hidden layer 2\n",
    "e = Dense(40, activation='relu')(e) # 40 neurons with ReLU activation\n",
    "\n",
    "# Hidden Layer 3\n",
    "e = Dense(5, activation='relu')(e) # 4 neurons with ReLU activation\n",
    "\n",
    "# Output Layer\n",
    "output = Dense(5, activation='softmax')(e) # Condensed to 4 neurons (for 4 classes)\n",
    "\n",
    "# Define the Deep Neural Network model\n",
    "model = Model(inputs=visible, outputs=output)\n",
    "\n",
    "# Cast the input data to float32\n",
    "X_train = X_train.astype('float32')\n",
    "X_test = X_test.astype('float32')\n",
    "\n",
    "# Compile the model with a suitable loss function for classification, e.g., categorical cross-entropy\n",
    "model.compile(optimizer=Adam(learning_rate=0.001), loss='categorical_crossentropy', metrics=['accuracy'])\n",
    "\n",
    "# Possible Better performance when a fixed learning rate is NOT used with Adam Optimizer, however not as stable/consistent overall\n",
    "#model.compile(optimizer='adam', loss='categorical_crossentropy', metrics=['accuracy'])\n",
    "\n",
    "# Set up early stopping with a patience of 6 steps\n",
    "early_stopping = EarlyStopping(monitor='val_loss', patience=6, restore_best_weights=True)\n",
    "\n",
    "# Fit the Deep Neural Network model to reconstruct input with batch size of 32 and 9 epochs\n",
    "history = model.fit(X_train, y_train_encoded, epochs=10, batch_size=32, verbose=2, validation_split=0.15, callbacks=[early_stopping])"
   ]
  }
 ],
 "metadata": {
  "kernelspec": {
   "display_name": "Python 3",
   "language": "python",
   "name": "python3"
  },
  "language_info": {
   "codemirror_mode": {
    "name": "ipython",
    "version": 3
   },
   "file_extension": ".py",
   "mimetype": "text/x-python",
   "name": "python",
   "nbconvert_exporter": "python",
   "pygments_lexer": "ipython3",
   "version": "3.12.2"
  }
 },
 "nbformat": 4,
 "nbformat_minor": 2
}
